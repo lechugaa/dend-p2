{
 "cells": [
  {
   "cell_type": "markdown",
   "metadata": {},
   "source": [
    "# Part I. ETL Pipeline for Pre-Processing the Files"
   ]
  },
  {
   "cell_type": "markdown",
   "metadata": {},
   "source": [
    "#### Import Python packages "
   ]
  },
  {
   "cell_type": "code",
   "execution_count": null,
   "metadata": {},
   "outputs": [],
   "source": [
    "# Import Python packages \n",
    "import pandas as pd\n",
    "import cassandra\n",
    "import re\n",
    "import os\n",
    "import glob\n",
    "import numpy as np\n",
    "import json\n",
    "import csv"
   ]
  },
  {
   "cell_type": "markdown",
   "metadata": {},
   "source": [
    "#### Creating list of filepaths to process original event csv data files"
   ]
  },
  {
   "cell_type": "code",
   "execution_count": null,
   "metadata": {},
   "outputs": [],
   "source": [
    "# checking your current working directory\n",
    "print(os.getcwd())\n",
    "\n",
    "# Get your current folder and subfolder event data\n",
    "filepath = os.getcwd() + '/event_data'\n",
    "\n",
    "# Create a for loop to create a list of files and collect each filepath\n",
    "file_path_list = []\n",
    "for root, dirs, files in os.walk(filepath):\n",
    "    file_path_list += glob.glob(os.path.join(root,'*'))"
   ]
  },
  {
   "cell_type": "markdown",
   "metadata": {},
   "source": [
    "#### Processing the files to create the data file csv that will be used for Apache Casssandra tables"
   ]
  },
  {
   "cell_type": "code",
   "execution_count": null,
   "metadata": {},
   "outputs": [],
   "source": [
    "# initiating an empty list of rows that will be generated from each file\n",
    "full_data_rows_list = [] \n",
    "    \n",
    "# for every filepath in the file path list \n",
    "for f in file_path_list:\n",
    "\n",
    "    # reading csv file \n",
    "    with open(f, 'r', encoding = 'utf8', newline='') as csvfile: \n",
    "        # creating a csv reader object \n",
    "        csvreader = csv.reader(csvfile) \n",
    "        # removing the header line\n",
    "        next(csvreader)\n",
    "        \n",
    "        # extracting each data row one by one and append it        \n",
    "        for line in csvreader:\n",
    "            full_data_rows_list.append(line) \n",
    "            \n",
    "# creating a smaller event data csv file called event_datafile_full csv\n",
    "# that will be used to insert data into the Apache Cassandra tables\n",
    "csv.register_dialect('myDialect', quoting=csv.QUOTE_ALL, skipinitialspace=True)\n",
    "\n",
    "with open('event_datafile_full.csv', 'w', encoding = 'utf8', newline='') as f:\n",
    "    writer = csv.writer(f, dialect='myDialect')\n",
    "    writer.writerow([\n",
    "        'artist',\n",
    "        'firstName',\n",
    "        'gender',\n",
    "        'itemInSession',\n",
    "        'lastName',\n",
    "        'length',\n",
    "        'level',\n",
    "        'location',\n",
    "        'sessionId',\n",
    "        'song',\n",
    "        'userId'\n",
    "    ])\n",
    "    for row in full_data_rows_list:\n",
    "        if (row[0] == ''):\n",
    "            continue\n",
    "        writer.writerow((row[0], row[2], row[3], row[4], row[5], row[6], row[7], row[8], row[12], row[13], row[16]))\n"
   ]
  },
  {
   "cell_type": "code",
   "execution_count": null,
   "metadata": {},
   "outputs": [],
   "source": [
    "# check the number of rows in csv file\n",
    "with open('event_datafile_full.csv', 'r', encoding = 'utf8') as f:\n",
    "    print(sum(1 for line in f))"
   ]
  },
  {
   "cell_type": "markdown",
   "metadata": {},
   "source": [
    "# Part II. Apache Cassandra Data Modeling\n",
    "\n",
    "##  The event_datafile_full.csv contains the following columns: \n",
    "- artist \n",
    "- firstName of user\n",
    "- gender of user\n",
    "- item number in session\n",
    "- last name of user\n",
    "- length of the song\n",
    "- level (paid or free song)\n",
    "- location of the user\n",
    "- sessionId\n",
    "- song title\n",
    "- userId\n",
    "\n",
    "The image below is a screenshot of what the denormalized data should appear like in the <font color=red>**event_datafile_new.csv**</font> after the code above is run:<br>\n",
    "\n",
    "<img src=\"images/image_event_datafile_new.jpg\">"
   ]
  },
  {
   "cell_type": "markdown",
   "metadata": {},
   "source": [
    "## Begin writing your Apache Cassandra code in the cells below"
   ]
  },
  {
   "cell_type": "markdown",
   "metadata": {},
   "source": [
    "#### Creating a Cluster"
   ]
  },
  {
   "cell_type": "code",
   "execution_count": null,
   "metadata": {},
   "outputs": [],
   "source": [
    "# This should make a connection to a Cassandra instance your local machine (127.0.0.1)\n",
    "from cassandra.cluster import Cluster\n",
    "from cassandra.auth import PlainTextAuthProvider\n",
    "\n",
    "auth_provider = PlainTextAuthProvider(username='cassandra', password='cassandra')\n",
    "cluster = Cluster(auth_provider=auth_provider)\n",
    "\n",
    "# To establish connection and begin executing queries, need a session\n",
    "try:\n",
    "    session = cluster.connect()\n",
    "except Exception as e:\n",
    "    print(f\"Exception encountered while trying to connect with the db backend: {e}\")"
   ]
  },
  {
   "cell_type": "markdown",
   "metadata": {},
   "source": [
    "#### Create Keyspace"
   ]
  },
  {
   "cell_type": "code",
   "execution_count": null,
   "metadata": {},
   "outputs": [],
   "source": [
    "keyspace_config = \"{'class': 'SimpleStrategy', 'replication_factor': 1}\"\n",
    "try:\n",
    "    session.execute(\"CREATE KEYSPACE IF NOT EXISTS sparkifydb WITH REPLICATION = \" + keyspace_config)\n",
    "except Exception as e:\n",
    "    print(f\"Exception encountered while trying to create keyspace: {e}\")"
   ]
  },
  {
   "cell_type": "markdown",
   "metadata": {},
   "source": [
    "#### Set Keyspace"
   ]
  },
  {
   "cell_type": "code",
   "execution_count": null,
   "metadata": {},
   "outputs": [],
   "source": [
    "try:\n",
    "    session.set_keyspace('sparkifydb')\n",
    "except Exception as e:\n",
    "    print(f\"Exception encountered while trying to set keyspace: {e}\")"
   ]
  },
  {
   "cell_type": "markdown",
   "metadata": {},
   "source": [
    "## Create queries to ask the following three questions of the data"
   ]
  },
  {
   "cell_type": "markdown",
   "metadata": {},
   "source": [
    "### 1. Give me the artist, song title and song's length in the music app history that was heard during  sessionId = 338, and itemInSession  = 4"
   ]
  },
  {
   "cell_type": "code",
   "execution_count": null,
   "metadata": {},
   "outputs": [],
   "source": [
    "# creating table for query 1\n",
    "query_1_table_create = \"\"\"\n",
    "    CREATE TABLE IF NOT EXISTS music_library_1 (\n",
    "        artist text,\n",
    "        title text,\n",
    "        length float,\n",
    "        session_id int,\n",
    "        item_in_session int,\n",
    "        PRIMARY KEY (session_id, item_in_session)\n",
    "    );\n",
    "\"\"\"\n",
    "\n",
    "try:\n",
    "    session.execute(query_1_table_create)\n",
    "    print(\"Table 1 created successfully...\")\n",
    "except Exception as e:\n",
    "    print(f\"Exception encountered while creating table 1: {e}\")"
   ]
  },
  {
   "cell_type": "code",
   "execution_count": null,
   "metadata": {
    "scrolled": false
   },
   "outputs": [],
   "source": [
    "# opening csv\n",
    "file = 'event_datafile_full.csv'\n",
    "query_1_table_insert = \"\"\"\n",
    "    INSERT INTO music_library_1 (artist, title, length, session_id, item_in_session)\n",
    "    VALUES (%s, %s, %s, %s, %s);\n",
    "\"\"\"\n",
    "\n",
    "with open(file, encoding = 'utf8') as f:\n",
    "    csvreader = csv.reader(f)\n",
    "    # skip header\n",
    "    next(csvreader)\n",
    "    for line in csvreader:\n",
    "        # database insertion\n",
    "        session.execute(query_1_table_insert, (line[0], line[9], float(line[5]), int(line[8]), int(line[3])))"
   ]
  },
  {
   "cell_type": "markdown",
   "metadata": {},
   "source": [
    "#### Do a SELECT to verify that the data have been inserted into each table"
   ]
  },
  {
   "cell_type": "code",
   "execution_count": null,
   "metadata": {
    "scrolled": true
   },
   "outputs": [],
   "source": [
    "select_query_1 = \"\"\"\n",
    "    SELECT artist, title, length FROM music_library_1 \n",
    "    WHERE session_id = 338 AND item_in_session = 4;\n",
    "\"\"\"\n",
    "try:\n",
    "    rows = session.execute(select_query_1)\n",
    "    for row in rows:\n",
    "        print(f\"{row.artist}, {row.title}, {row.length}\")\n",
    "except Exception as e:\n",
    "    print(f\"Exception encountered while querying table 1: {e}\")"
   ]
  },
  {
   "cell_type": "markdown",
   "metadata": {},
   "source": [
    "### 2. Give me only the following: name of artist, song (sorted by itemInSession) and user (first and last name) for userid = 10, sessionid = 182"
   ]
  },
  {
   "cell_type": "code",
   "execution_count": null,
   "metadata": {},
   "outputs": [],
   "source": [
    "# creating table for query 2\n",
    "query_2_table_create = \"\"\"\n",
    "    CREATE TABLE IF NOT EXISTS music_library_2 (\n",
    "        artist text,\n",
    "        title text,\n",
    "        first_name text,\n",
    "        last_name text,\n",
    "        user_id int,\n",
    "        session_id int,\n",
    "        item_in_session int,\n",
    "        PRIMARY KEY (user_id, session_id, item_in_session)\n",
    "    );\n",
    "\"\"\"\n",
    "\n",
    "try:\n",
    "    session.execute(query_2_table_create)\n",
    "    print(\"Table 2 created successfully...\")\n",
    "except Exception as e:\n",
    "    print(f\"Exception encountered while creating table 2: {e}\")"
   ]
  },
  {
   "cell_type": "code",
   "execution_count": null,
   "metadata": {
    "scrolled": false
   },
   "outputs": [],
   "source": [
    "# opening csv\n",
    "file = 'event_datafile_full.csv'\n",
    "query_2_table_insert = \"\"\"\n",
    "    INSERT INTO music_library_2 (artist, title, first_name, last_name, user_id, session_id, item_in_session)\n",
    "    VALUES (%s, %s, %s, %s, %s, %s, %s);\n",
    "\"\"\"\n",
    "\n",
    "with open(file, encoding = 'utf8') as f:\n",
    "    csvreader = csv.reader(f)\n",
    "    # skip header\n",
    "    next(csvreader)\n",
    "    for line in csvreader:\n",
    "        # database insertion\n",
    "        session.execute(query_2_table_insert, (line[0], line[9], line[1], line[4], int(line[10]), int(line[8]), int(line[3])))"
   ]
  },
  {
   "cell_type": "markdown",
   "metadata": {},
   "source": [
    "#### Do a SELECT to verify that the data have been inserted into each table"
   ]
  },
  {
   "cell_type": "code",
   "execution_count": null,
   "metadata": {
    "scrolled": true
   },
   "outputs": [],
   "source": [
    "select_query_2 = \"\"\"\n",
    "    SELECT artist, title, first_name, last_name FROM music_library_2 \n",
    "    WHERE user_id = 10 AND session_id = 182;\n",
    "\"\"\"\n",
    "try:\n",
    "    rows = session.execute(select_query_2)\n",
    "    for row in rows:\n",
    "        print(f\"{row.artist}, {row.title}, {row.first_name}, {row.last_name}\")\n",
    "except Exception as e:\n",
    "    print(f\"Exception encountered while querying table 3: {e}\")"
   ]
  },
  {
   "cell_type": "markdown",
   "metadata": {},
   "source": [
    "### 3. Give me every user name (first and last) in my music app history who listened to the song 'All Hands Against His Own'"
   ]
  },
  {
   "cell_type": "code",
   "execution_count": null,
   "metadata": {},
   "outputs": [],
   "source": [
    "# creating table for query 3\n",
    "query_3_table_create = \"\"\"\n",
    "    CREATE TABLE IF NOT EXISTS music_library_3 (\n",
    "        first_name text,\n",
    "        last_name text,\n",
    "        user_id int,\n",
    "        title text,\n",
    "        PRIMARY KEY (title, user_id)\n",
    "    );\n",
    "\"\"\"\n",
    "\n",
    "try:\n",
    "    session.execute(query_3_table_create)\n",
    "    print(\"Table 3 created successfully...\")\n",
    "except Exception as e:\n",
    "    print(f\"Exception encountered while creating table 3: {e}\")"
   ]
  },
  {
   "cell_type": "code",
   "execution_count": null,
   "metadata": {
    "scrolled": false
   },
   "outputs": [],
   "source": [
    "# opening csv\n",
    "file = 'event_datafile_full.csv'\n",
    "query_3_table_insert = \"\"\"\n",
    "    INSERT INTO music_library_3 (first_name, last_name, user_id, title)\n",
    "    VALUES (%s, %s, %s, %s);\n",
    "\"\"\"\n",
    "\n",
    "with open(file, encoding = 'utf8') as f:\n",
    "    csvreader = csv.reader(f)\n",
    "    # skip header\n",
    "    next(csvreader)\n",
    "    for line in csvreader:\n",
    "        # database insertion\n",
    "        session.execute(query_3_table_insert, (line[1], line[4], int(line[10]), line[9]))"
   ]
  },
  {
   "cell_type": "markdown",
   "metadata": {},
   "source": [
    "#### Do a SELECT to verify that the data have been inserted into each table"
   ]
  },
  {
   "cell_type": "code",
   "execution_count": null,
   "metadata": {
    "scrolled": true
   },
   "outputs": [],
   "source": [
    "select_query_3 = \"\"\"\n",
    "    SELECT first_name, last_name FROM music_library_3 \n",
    "    WHERE title = 'All Hands Against His Own';\n",
    "\"\"\"\n",
    "try:\n",
    "    rows = session.execute(select_query_3)\n",
    "    for row in rows:\n",
    "        print(f\"{row.first_name}, {row.last_name}\")\n",
    "except Exception as e:\n",
    "    print(f\"Exception encountered while querying table 3: {e}\")"
   ]
  },
  {
   "cell_type": "markdown",
   "metadata": {},
   "source": [
    "### Drop the tables before closing out the sessions"
   ]
  },
  {
   "cell_type": "code",
   "execution_count": null,
   "metadata": {},
   "outputs": [],
   "source": [
    "# defining drop queries\n",
    "query_1_table_drop = \"DROP TABLE IF EXISTS music_library_1;\"\n",
    "query_2_table_drop = \"DROP TABLE IF EXISTS music_library_2;\"\n",
    "query_3_table_drop = \"DROP TABLE IF EXISTS music_library_3;\""
   ]
  },
  {
   "cell_type": "code",
   "execution_count": null,
   "metadata": {},
   "outputs": [],
   "source": [
    "try:\n",
    "    session.execute(query_1_table_drop)\n",
    "    session.execute(query_2_table_drop)\n",
    "    session.execute(query_3_table_drop)\n",
    "except Exception as e:\n",
    "    print(f\"Exception encountered while trying to drop tables: {e}\")"
   ]
  },
  {
   "cell_type": "markdown",
   "metadata": {},
   "source": [
    "### Close the session and cluster connection¶"
   ]
  },
  {
   "cell_type": "code",
   "execution_count": null,
   "metadata": {},
   "outputs": [],
   "source": [
    "session.shutdown()\n",
    "cluster.shutdown()"
   ]
  }
 ],
 "metadata": {
  "kernelspec": {
   "display_name": "udacity_dend",
   "language": "python",
   "name": "udacity_dend"
  },
  "language_info": {
   "codemirror_mode": {
    "name": "ipython",
    "version": 3
   },
   "file_extension": ".py",
   "mimetype": "text/x-python",
   "name": "python",
   "nbconvert_exporter": "python",
   "pygments_lexer": "ipython3",
   "version": "3.9.4"
  }
 },
 "nbformat": 4,
 "nbformat_minor": 2
}
