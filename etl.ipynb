{
 "cells": [
  {
   "cell_type": "markdown",
   "metadata": {},
   "source": [
    "# Part I. ETL Pipeline for Pre-Processing the Files"
   ]
  },
  {
   "cell_type": "markdown",
   "metadata": {},
   "source": [
    "#### Import Python packages "
   ]
  },
  {
   "cell_type": "code",
   "execution_count": 1,
   "metadata": {},
   "outputs": [],
   "source": [
    "# Import Python packages \n",
    "import pandas as pd\n",
    "import cassandra\n",
    "import re\n",
    "import os\n",
    "import glob\n",
    "import numpy as np\n",
    "import json\n",
    "import csv"
   ]
  },
  {
   "cell_type": "markdown",
   "metadata": {},
   "source": [
    "#### Creating list of filepaths to process original event csv data files"
   ]
  },
  {
   "cell_type": "code",
   "execution_count": 2,
   "metadata": {},
   "outputs": [
    {
     "name": "stdout",
     "output_type": "stream",
     "text": [
      "/Users/antoniolechuga/Developer/udacity/data-engineering/dend-p2\n"
     ]
    }
   ],
   "source": [
    "# checking your current working directory\n",
    "print(os.getcwd())\n",
    "\n",
    "# Get your current folder and subfolder event data\n",
    "filepath = os.getcwd() + '/event_data'\n",
    "\n",
    "# Create a for loop to create a list of files and collect each filepath\n",
    "file_path_list = []\n",
    "for root, dirs, files in os.walk(filepath):\n",
    "    file_path_list += glob.glob(os.path.join(root,'*'))"
   ]
  },
  {
   "cell_type": "markdown",
   "metadata": {},
   "source": [
    "#### Processing the files to create the data file csv that will be used for Apache Casssandra tables"
   ]
  },
  {
   "cell_type": "code",
   "execution_count": 3,
   "metadata": {},
   "outputs": [],
   "source": [
    "# initiating an empty list of rows that will be generated from each file\n",
    "full_data_rows_list = [] \n",
    "    \n",
    "# for every filepath in the file path list \n",
    "for f in file_path_list:\n",
    "\n",
    "    # reading csv file \n",
    "    with open(f, 'r', encoding = 'utf8', newline='') as csvfile: \n",
    "        # creating a csv reader object \n",
    "        csvreader = csv.reader(csvfile) \n",
    "        # removing the header line\n",
    "        next(csvreader)\n",
    "        \n",
    "        # extracting each data row one by one and append it        \n",
    "        for line in csvreader:\n",
    "            full_data_rows_list.append(line) \n",
    "            \n",
    "# creating a smaller event data csv file called event_datafile_full csv\n",
    "# that will be used to insert data into the Apache Cassandra tables\n",
    "csv.register_dialect('myDialect', quoting=csv.QUOTE_ALL, skipinitialspace=True)\n",
    "\n",
    "with open('event_data_new.csv', 'w', encoding = 'utf8', newline='') as f:\n",
    "    writer = csv.writer(f, dialect='myDialect')\n",
    "    writer.writerow([\n",
    "        'artist',\n",
    "        'firstName',\n",
    "        'gender',\n",
    "        'itemInSession',\n",
    "        'lastName',\n",
    "        'length',\n",
    "        'level',\n",
    "        'location',\n",
    "        'sessionId',\n",
    "        'song',\n",
    "        'userId'\n",
    "    ])\n",
    "    for row in full_data_rows_list:\n",
    "        if (row[0] == ''):\n",
    "            continue\n",
    "        writer.writerow((row[0], row[2], row[3], row[4], row[5], row[6], row[7], row[8], row[12], row[13], row[16]))\n"
   ]
  },
  {
   "cell_type": "code",
   "execution_count": 4,
   "metadata": {},
   "outputs": [
    {
     "name": "stdout",
     "output_type": "stream",
     "text": [
      "6821\n"
     ]
    }
   ],
   "source": [
    "# check the number of rows in csv file\n",
    "with open('event_data_new.csv', 'r', encoding = 'utf8') as f:\n",
    "    print(sum(1 for line in f))"
   ]
  },
  {
   "cell_type": "markdown",
   "metadata": {},
   "source": [
    "# Part II. Apache Cassandra Data Modeling\n",
    "\n",
    "##  The event_datafile_full.csv contains the following columns: \n",
    "- artist \n",
    "- firstName of user\n",
    "- gender of user\n",
    "- item number in session\n",
    "- last name of user\n",
    "- length of the song\n",
    "- level (paid or free song)\n",
    "- location of the user\n",
    "- sessionId\n",
    "- song title\n",
    "- userId\n",
    "\n",
    "The image below is a screenshot of what the denormalized data should appear like in the <font color=red>**event_datafile_new.csv**</font> after the code above is run:<br>\n",
    "\n",
    "<img src=\"images/image_event_datafile_new.jpg\">"
   ]
  },
  {
   "cell_type": "markdown",
   "metadata": {},
   "source": [
    "#### Creating a Cluster\n",
    "\n",
    "Creting the cluster that will be used for this project. It is assumed that default authentication credentials are being used by the user. If this is not your case, change the parameters `username` and `password` in line 5. "
   ]
  },
  {
   "cell_type": "code",
   "execution_count": 5,
   "metadata": {},
   "outputs": [],
   "source": [
    "# This should make a connection to a Cassandra instance your local machine (127.0.0.1)\n",
    "from cassandra.cluster import Cluster\n",
    "from cassandra.auth import PlainTextAuthProvider\n",
    "\n",
    "auth_provider = PlainTextAuthProvider(username='cassandra', password='cassandra')\n",
    "cluster = Cluster(auth_provider=auth_provider)\n",
    "\n",
    "# To establish connection and begin executing queries, need a session\n",
    "try:\n",
    "    session = cluster.connect()\n",
    "except Exception as e:\n",
    "    print(f\"Exception encountered while trying to connect with the db backend: {e}\")"
   ]
  },
  {
   "cell_type": "markdown",
   "metadata": {},
   "source": [
    "#### Create Keyspace\n",
    "\n",
    "Creating the `sparkifydb` keyspace. A simple strategy and a replication of 1 is being used for testing purposes. These parameters need to be modified in production."
   ]
  },
  {
   "cell_type": "code",
   "execution_count": 6,
   "metadata": {},
   "outputs": [],
   "source": [
    "keyspace_config = \"{'class': 'SimpleStrategy', 'replication_factor': 1}\"\n",
    "try:\n",
    "    session.execute(\"CREATE KEYSPACE IF NOT EXISTS sparkifydb WITH REPLICATION = \" + keyspace_config)\n",
    "except Exception as e:\n",
    "    print(f\"Exception encountered while trying to create keyspace: {e}\")"
   ]
  },
  {
   "cell_type": "markdown",
   "metadata": {},
   "source": [
    "#### Set Keyspace\n",
    "\n",
    "Setting `sparkifydb` as session's keyspace. "
   ]
  },
  {
   "cell_type": "code",
   "execution_count": 7,
   "metadata": {},
   "outputs": [],
   "source": [
    "try:\n",
    "    session.set_keyspace('sparkifydb')\n",
    "except Exception as e:\n",
    "    print(f\"Exception encountered while trying to set keyspace: {e}\")"
   ]
  },
  {
   "cell_type": "markdown",
   "metadata": {},
   "source": [
    "## Data Modeling\n",
    "\n",
    "In this section the required tables will be created to be able to perform efficiently the following three kinds of queries:\n",
    "1. Give me the artist, song title and song's length in the music app history that was heard during  sessionId = `<session_id>`, and itemInSession = `<item_in_session>`\n",
    "1. Give me only the following: name of artist, song (sorted by itemInSession) and user (first and last name) for userid = `<user_id>`, sessionid = `<session_id>`\n",
    "1. Give me every user name (first and last) in my music app history who listened to the song `<name_of_song>`"
   ]
  },
  {
   "cell_type": "markdown",
   "metadata": {},
   "source": [
    "### 1. Give me the artist, song title and song's length in the music app history that was heard during  sessionId = 338, and itemInSession  = 4"
   ]
  },
  {
   "cell_type": "markdown",
   "metadata": {},
   "source": [
    "Here the table `songs_per_session_and_item` will be created. This tables helps the analytics team find a song when they have knowledge of the session and the item in session that will enable them to understand what songs in the music library are being heard the most.\n",
    "\n",
    "It has the following structure:\n",
    "\n",
    "|       Column      |   Type  |\n",
    "|:-----------------:|:-------:|\n",
    "|      `artist`     |  `text` |\n",
    "|      `title`      |  `text` |\n",
    "|      `length`     | `float` |\n",
    "|    `session_id`   |  `int`  |\n",
    "| `item_in_session` |  `int`  |\n",
    "\n",
    "`PRIMARY KEY` is `(session_id, item_in_session)`. This primary key was necessary to uniquely identify each row in the csv file, and also to allow finding easily a given session id.\n",
    "\n",
    "The expected result is the following:\n",
    "\n",
    "|   artist  |               song              |   length   |\n",
    "|:---------:|:-------------------------------:|:----------:|\n",
    "| Faithless | Music Matters (Mark Knight Dub) | 495.307312 |"
   ]
  },
  {
   "cell_type": "code",
   "execution_count": 8,
   "metadata": {},
   "outputs": [
    {
     "name": "stdout",
     "output_type": "stream",
     "text": [
      "Table 1 created successfully...\n"
     ]
    }
   ],
   "source": [
    "# creating table for query 1\n",
    "query_1_table_create = \"\"\"\n",
    "    CREATE TABLE IF NOT EXISTS songs_per_session_and_item (\n",
    "        artist text,\n",
    "        title text,\n",
    "        length float,\n",
    "        session_id int,\n",
    "        item_in_session int,\n",
    "        PRIMARY KEY (session_id, item_in_session)\n",
    "    );\n",
    "\"\"\"\n",
    "\n",
    "try:\n",
    "    session.execute(query_1_table_create)\n",
    "    print(\"Table 1 created successfully...\")\n",
    "except Exception as e:\n",
    "    print(f\"Exception encountered while creating table 1: {e}\")"
   ]
  },
  {
   "cell_type": "code",
   "execution_count": 9,
   "metadata": {
    "scrolled": false
   },
   "outputs": [],
   "source": [
    "# opening csv\n",
    "file = 'event_data_new.csv'\n",
    "query_1_table_insert = \"\"\"\n",
    "    INSERT INTO songs_per_session_and_item (artist, title, length, session_id, item_in_session)\n",
    "    VALUES (%s, %s, %s, %s, %s);\n",
    "\"\"\"\n",
    "\n",
    "with open(file, encoding = 'utf8') as f:\n",
    "    csvreader = csv.reader(f)\n",
    "    # skip header\n",
    "    next(csvreader)\n",
    "    for line in csvreader:\n",
    "        # database insertion\n",
    "        session.execute(query_1_table_insert, (line[0], line[9], float(line[5]), int(line[8]), int(line[3])))"
   ]
  },
  {
   "cell_type": "markdown",
   "metadata": {},
   "source": [
    "#### SELECT to verify that the data have been inserted into each table"
   ]
  },
  {
   "cell_type": "code",
   "execution_count": 10,
   "metadata": {
    "scrolled": true
   },
   "outputs": [
    {
     "data": {
      "text/html": [
       "<div>\n",
       "<style scoped>\n",
       "    .dataframe tbody tr th:only-of-type {\n",
       "        vertical-align: middle;\n",
       "    }\n",
       "\n",
       "    .dataframe tbody tr th {\n",
       "        vertical-align: top;\n",
       "    }\n",
       "\n",
       "    .dataframe thead th {\n",
       "        text-align: right;\n",
       "    }\n",
       "</style>\n",
       "<table border=\"1\" class=\"dataframe\">\n",
       "  <thead>\n",
       "    <tr style=\"text-align: right;\">\n",
       "      <th></th>\n",
       "      <th>artist</th>\n",
       "      <th>title</th>\n",
       "      <th>length</th>\n",
       "    </tr>\n",
       "  </thead>\n",
       "  <tbody>\n",
       "    <tr>\n",
       "      <th>0</th>\n",
       "      <td>Faithless</td>\n",
       "      <td>Music Matters (Mark Knight Dub)</td>\n",
       "      <td>495.307312</td>\n",
       "    </tr>\n",
       "  </tbody>\n",
       "</table>\n",
       "</div>"
      ],
      "text/plain": [
       "      artist                            title      length\n",
       "0  Faithless  Music Matters (Mark Knight Dub)  495.307312"
      ]
     },
     "metadata": {},
     "output_type": "display_data"
    }
   ],
   "source": [
    "select_query_1 = \"\"\"\n",
    "    SELECT artist, title, length FROM songs_per_session_and_item \n",
    "    WHERE session_id = 338 AND item_in_session = 4;\n",
    "\"\"\"\n",
    "try:\n",
    "    rows = session.execute(select_query_1)\n",
    "    q1_df = pd.DataFrame(list(rows))\n",
    "    display(q1_df)\n",
    "except Exception as e:\n",
    "    print(f\"Exception encountered while querying table 1: {e}\")"
   ]
  },
  {
   "cell_type": "markdown",
   "metadata": {},
   "source": [
    "### 2. Give me only the following: name of artist, song (sorted by itemInSession) and user (first and last name) for userid = 10, sessionid = 182\n",
    "\n",
    "Here the table `songs_per_user_and_session` will be created. This tables helps the analytics team find the name of the artist, song and user when they have knowledge of the user id and the session id. The results are returned in ascending order of the item in session column. These results will enable the analytics team to make better recommendations on what song to listen to next to a specific user. \n",
    "\n",
    "It has the following structure:\n",
    "\n",
    "| Column            | Type   |\n",
    "|:-----------------:|:------:|\n",
    "| `artist`          | `text` |\n",
    "| `title`           | `text` |\n",
    "| `first_name`      | `text` |\n",
    "| `last_name`       | `text` |\n",
    "| `user_id`         | `int`  |\n",
    "| `session_id`      | `int`  |\n",
    "| `item_in_session` | `int`  |\n",
    "\n",
    "`PRIMARY KEY` is `((user_id, session_id), item_in_session)`. The composite partition key i.e. `(user_id, session_id)` was designed this way to avoid having sessions from the same user that might reside in different nodes, which will cause a performance issue when the database is very large. Additionally, `item_in_session` was used as a clustetiring key to be able to return the results in ascending order of the item in session column. \n",
    "\n",
    "The expected result is the following:\n",
    "\n",
    "|       artist      |                       title                       | first_name | last_name |\n",
    "|:-----------------:|:-------------------------------------------------:|:----------:|:---------:|\n",
    "| Down To The Bone  | Keep On Keepin' On                                | Sylvie     | Cruz      |\n",
    "| Three Drives      | Greece 2000                                       | Sylvie     | Cruz      |\n",
    "| Sebastien Tellier | Kilometer                                         | Sylvie     | Cruz      |\n",
    "| Lonnie Gordon     | Catch You Baby (Steve Pitron & Max Sanna Radio... | Sylvie     | Cruz      |"
   ]
  },
  {
   "cell_type": "code",
   "execution_count": 11,
   "metadata": {},
   "outputs": [
    {
     "name": "stdout",
     "output_type": "stream",
     "text": [
      "Table 2 created successfully...\n"
     ]
    }
   ],
   "source": [
    "# creating table for query 2\n",
    "query_2_table_create = \"\"\"\n",
    "    CREATE TABLE IF NOT EXISTS songs_per_user_and_session (\n",
    "        artist text,\n",
    "        title text,\n",
    "        first_name text,\n",
    "        last_name text,\n",
    "        user_id int,\n",
    "        session_id int,\n",
    "        item_in_session int,\n",
    "        PRIMARY KEY ((user_id, session_id), item_in_session)\n",
    "    );\n",
    "\"\"\"\n",
    "\n",
    "try:\n",
    "    session.execute(query_2_table_create)\n",
    "    print(\"Table 2 created successfully...\")\n",
    "except Exception as e:\n",
    "    print(f\"Exception encountered while creating table 2: {e}\")"
   ]
  },
  {
   "cell_type": "code",
   "execution_count": 12,
   "metadata": {
    "scrolled": false
   },
   "outputs": [],
   "source": [
    "# opening csv\n",
    "file = 'event_data_new.csv'\n",
    "query_2_table_insert = \"\"\"\n",
    "    INSERT INTO songs_per_user_and_session (artist, title, first_name, last_name, user_id, session_id, item_in_session)\n",
    "    VALUES (%s, %s, %s, %s, %s, %s, %s);\n",
    "\"\"\"\n",
    "\n",
    "with open(file, encoding = 'utf8') as f:\n",
    "    csvreader = csv.reader(f)\n",
    "    # skip header\n",
    "    next(csvreader)\n",
    "    for line in csvreader:\n",
    "        # database insertion\n",
    "        session.execute(query_2_table_insert, (line[0], line[9], line[1], line[4], int(line[10]), int(line[8]), int(line[3])))"
   ]
  },
  {
   "cell_type": "markdown",
   "metadata": {},
   "source": [
    "#### SELECT to verify that the data have been inserted into each table"
   ]
  },
  {
   "cell_type": "code",
   "execution_count": 13,
   "metadata": {
    "scrolled": true
   },
   "outputs": [
    {
     "data": {
      "text/html": [
       "<div>\n",
       "<style scoped>\n",
       "    .dataframe tbody tr th:only-of-type {\n",
       "        vertical-align: middle;\n",
       "    }\n",
       "\n",
       "    .dataframe tbody tr th {\n",
       "        vertical-align: top;\n",
       "    }\n",
       "\n",
       "    .dataframe thead th {\n",
       "        text-align: right;\n",
       "    }\n",
       "</style>\n",
       "<table border=\"1\" class=\"dataframe\">\n",
       "  <thead>\n",
       "    <tr style=\"text-align: right;\">\n",
       "      <th></th>\n",
       "      <th>artist</th>\n",
       "      <th>title</th>\n",
       "      <th>first_name</th>\n",
       "      <th>last_name</th>\n",
       "    </tr>\n",
       "  </thead>\n",
       "  <tbody>\n",
       "    <tr>\n",
       "      <th>0</th>\n",
       "      <td>Down To The Bone</td>\n",
       "      <td>Keep On Keepin' On</td>\n",
       "      <td>Sylvie</td>\n",
       "      <td>Cruz</td>\n",
       "    </tr>\n",
       "    <tr>\n",
       "      <th>1</th>\n",
       "      <td>Three Drives</td>\n",
       "      <td>Greece 2000</td>\n",
       "      <td>Sylvie</td>\n",
       "      <td>Cruz</td>\n",
       "    </tr>\n",
       "    <tr>\n",
       "      <th>2</th>\n",
       "      <td>Sebastien Tellier</td>\n",
       "      <td>Kilometer</td>\n",
       "      <td>Sylvie</td>\n",
       "      <td>Cruz</td>\n",
       "    </tr>\n",
       "    <tr>\n",
       "      <th>3</th>\n",
       "      <td>Lonnie Gordon</td>\n",
       "      <td>Catch You Baby (Steve Pitron &amp; Max Sanna Radio...</td>\n",
       "      <td>Sylvie</td>\n",
       "      <td>Cruz</td>\n",
       "    </tr>\n",
       "  </tbody>\n",
       "</table>\n",
       "</div>"
      ],
      "text/plain": [
       "              artist                                              title  \\\n",
       "0   Down To The Bone                                 Keep On Keepin' On   \n",
       "1       Three Drives                                        Greece 2000   \n",
       "2  Sebastien Tellier                                          Kilometer   \n",
       "3      Lonnie Gordon  Catch You Baby (Steve Pitron & Max Sanna Radio...   \n",
       "\n",
       "  first_name last_name  \n",
       "0     Sylvie      Cruz  \n",
       "1     Sylvie      Cruz  \n",
       "2     Sylvie      Cruz  \n",
       "3     Sylvie      Cruz  "
      ]
     },
     "metadata": {},
     "output_type": "display_data"
    }
   ],
   "source": [
    "select_query_2 = \"\"\"\n",
    "    SELECT artist, title, first_name, last_name FROM songs_per_user_and_session \n",
    "    WHERE user_id = 10 AND session_id = 182;\n",
    "\"\"\"\n",
    "try:\n",
    "    rows = session.execute(select_query_2)\n",
    "    q2_df = pd.DataFrame(list(rows))\n",
    "    display(q2_df)\n",
    "except Exception as e:\n",
    "    print(f\"Exception encountered while querying table 3: {e}\")"
   ]
  },
  {
   "cell_type": "markdown",
   "metadata": {},
   "source": [
    "### 3. Give me every user name (first and last) in my music app history who listened to the song 'All Hands Against His Own'\n",
    "\n",
    "Here the table `users_per_song` will be created. This tables helps the analytics team find the first and last name of the users that have listened to a specific song. \n",
    "\n",
    "It has the following structure:\n",
    "\n",
    "| Column            | Type   |\n",
    "|:-----------------:|:------:|\n",
    "| `first_name`      | `text` |\n",
    "| `last_name`       | `text` |\n",
    "| `user_id`         | `int`  |\n",
    "| `title`           | `text` |\n",
    "\n",
    "`PRIMARY KEY` is `(title, user_id)`. This PRIMARY KEY might not result in a unique record for every log in the csv files, but given the nature of the query: to obtain a user first and last name if they have listened to a song, we do not need a unique record per csv line. What we need is only to remember every person that has listened a given song at least once. This is taken care by this table design.\n",
    "\n",
    "The expected result is the following:\n",
    "\n",
    "| first_name | last_name |\n",
    "|:----------:|:---------:|\n",
    "| Jacqueline |     Lynch |\n",
    "|      Tegan |    Levine |\n",
    "|       Sara |   Johnson |"
   ]
  },
  {
   "cell_type": "code",
   "execution_count": 14,
   "metadata": {},
   "outputs": [
    {
     "name": "stdout",
     "output_type": "stream",
     "text": [
      "Table 3 created successfully...\n"
     ]
    }
   ],
   "source": [
    "# creating table for query 3\n",
    "query_3_table_create = \"\"\"\n",
    "    CREATE TABLE IF NOT EXISTS users_per_song (\n",
    "        first_name text,\n",
    "        last_name text,\n",
    "        user_id int,\n",
    "        title text,\n",
    "        PRIMARY KEY (title, user_id)\n",
    "    );\n",
    "\"\"\"\n",
    "\n",
    "try:\n",
    "    session.execute(query_3_table_create)\n",
    "    print(\"Table 3 created successfully...\")\n",
    "except Exception as e:\n",
    "    print(f\"Exception encountered while creating table 3: {e}\")"
   ]
  },
  {
   "cell_type": "code",
   "execution_count": 15,
   "metadata": {
    "scrolled": false
   },
   "outputs": [],
   "source": [
    "# opening csv\n",
    "file = 'event_data_new.csv'\n",
    "query_3_table_insert = \"\"\"\n",
    "    INSERT INTO users_per_song (first_name, last_name, user_id, title)\n",
    "    VALUES (%s, %s, %s, %s);\n",
    "\"\"\"\n",
    "\n",
    "with open(file, encoding = 'utf8') as f:\n",
    "    csvreader = csv.reader(f)\n",
    "    # skip header\n",
    "    next(csvreader)\n",
    "    for line in csvreader:\n",
    "        # database insertion\n",
    "        session.execute(query_3_table_insert, (line[1], line[4], int(line[10]), line[9]))"
   ]
  },
  {
   "cell_type": "markdown",
   "metadata": {},
   "source": [
    "#### SELECT to verify that the data have been inserted into each table"
   ]
  },
  {
   "cell_type": "code",
   "execution_count": 16,
   "metadata": {
    "scrolled": true
   },
   "outputs": [
    {
     "data": {
      "text/html": [
       "<div>\n",
       "<style scoped>\n",
       "    .dataframe tbody tr th:only-of-type {\n",
       "        vertical-align: middle;\n",
       "    }\n",
       "\n",
       "    .dataframe tbody tr th {\n",
       "        vertical-align: top;\n",
       "    }\n",
       "\n",
       "    .dataframe thead th {\n",
       "        text-align: right;\n",
       "    }\n",
       "</style>\n",
       "<table border=\"1\" class=\"dataframe\">\n",
       "  <thead>\n",
       "    <tr style=\"text-align: right;\">\n",
       "      <th></th>\n",
       "      <th>first_name</th>\n",
       "      <th>last_name</th>\n",
       "    </tr>\n",
       "  </thead>\n",
       "  <tbody>\n",
       "    <tr>\n",
       "      <th>0</th>\n",
       "      <td>Jacqueline</td>\n",
       "      <td>Lynch</td>\n",
       "    </tr>\n",
       "    <tr>\n",
       "      <th>1</th>\n",
       "      <td>Tegan</td>\n",
       "      <td>Levine</td>\n",
       "    </tr>\n",
       "    <tr>\n",
       "      <th>2</th>\n",
       "      <td>Sara</td>\n",
       "      <td>Johnson</td>\n",
       "    </tr>\n",
       "  </tbody>\n",
       "</table>\n",
       "</div>"
      ],
      "text/plain": [
       "   first_name last_name\n",
       "0  Jacqueline     Lynch\n",
       "1       Tegan    Levine\n",
       "2        Sara   Johnson"
      ]
     },
     "metadata": {},
     "output_type": "display_data"
    }
   ],
   "source": [
    "select_query_3 = \"\"\"\n",
    "    SELECT first_name, last_name FROM users_per_song \n",
    "    WHERE title = 'All Hands Against His Own';\n",
    "\"\"\"\n",
    "try:\n",
    "    rows = session.execute(select_query_3)\n",
    "    q3_df = pd.DataFrame(list(rows))\n",
    "    display(q3_df)\n",
    "except Exception as e:\n",
    "    print(f\"Exception encountered while querying table 3: {e}\")"
   ]
  },
  {
   "cell_type": "markdown",
   "metadata": {},
   "source": [
    "### Drop the tables before closing out the sessions"
   ]
  },
  {
   "cell_type": "code",
   "execution_count": 17,
   "metadata": {},
   "outputs": [],
   "source": [
    "# defining drop queries\n",
    "query_1_table_drop = \"DROP TABLE IF EXISTS songs_per_session_and_item;\"\n",
    "query_2_table_drop = \"DROP TABLE IF EXISTS songs_per_user_and_session;\"\n",
    "query_3_table_drop = \"DROP TABLE IF EXISTS users_per_song;\""
   ]
  },
  {
   "cell_type": "code",
   "execution_count": 18,
   "metadata": {},
   "outputs": [],
   "source": [
    "try:\n",
    "    session.execute(query_1_table_drop)\n",
    "    session.execute(query_2_table_drop)\n",
    "    session.execute(query_3_table_drop)\n",
    "except Exception as e:\n",
    "    print(f\"Exception encountered while trying to drop tables: {e}\")"
   ]
  },
  {
   "cell_type": "markdown",
   "metadata": {},
   "source": [
    "### Close the session and cluster connection¶"
   ]
  },
  {
   "cell_type": "code",
   "execution_count": 19,
   "metadata": {},
   "outputs": [],
   "source": [
    "session.shutdown()\n",
    "cluster.shutdown()"
   ]
  }
 ],
 "metadata": {
  "kernelspec": {
   "display_name": "udacity_dend",
   "language": "python",
   "name": "udacity_dend"
  },
  "language_info": {
   "codemirror_mode": {
    "name": "ipython",
    "version": 3
   },
   "file_extension": ".py",
   "mimetype": "text/x-python",
   "name": "python",
   "nbconvert_exporter": "python",
   "pygments_lexer": "ipython3",
   "version": "3.9.4"
  }
 },
 "nbformat": 4,
 "nbformat_minor": 2
}
